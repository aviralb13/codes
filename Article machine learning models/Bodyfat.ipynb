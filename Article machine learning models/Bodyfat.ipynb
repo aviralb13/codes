{
 "cells": [
  {
   "cell_type": "code",
   "execution_count": 15,
   "metadata": {},
   "outputs": [],
   "source": [
    "import pandas as pd\n",
    "import numpy as np"
   ]
  },
  {
   "cell_type": "code",
   "execution_count": 274,
   "metadata": {},
   "outputs": [
    {
     "data": {
      "text/html": [
       "<div>\n",
       "<style scoped>\n",
       "    .dataframe tbody tr th:only-of-type {\n",
       "        vertical-align: middle;\n",
       "    }\n",
       "\n",
       "    .dataframe tbody tr th {\n",
       "        vertical-align: top;\n",
       "    }\n",
       "\n",
       "    .dataframe thead th {\n",
       "        text-align: right;\n",
       "    }\n",
       "</style>\n",
       "<table border=\"1\" class=\"dataframe\">\n",
       "  <thead>\n",
       "    <tr style=\"text-align: right;\">\n",
       "      <th></th>\n",
       "      <th>Density</th>\n",
       "      <th>BodyFat</th>\n",
       "      <th>Age</th>\n",
       "      <th>Weight</th>\n",
       "      <th>Height</th>\n",
       "      <th>Neck</th>\n",
       "      <th>Chest</th>\n",
       "      <th>Abdomen</th>\n",
       "      <th>Hip</th>\n",
       "      <th>Thigh</th>\n",
       "      <th>Knee</th>\n",
       "      <th>Ankle</th>\n",
       "      <th>Biceps</th>\n",
       "      <th>Forearm</th>\n",
       "      <th>Wrist</th>\n",
       "    </tr>\n",
       "  </thead>\n",
       "  <tbody>\n",
       "    <tr>\n",
       "      <th>0</th>\n",
       "      <td>1.07</td>\n",
       "      <td>12.30</td>\n",
       "      <td>23</td>\n",
       "      <td>154.25</td>\n",
       "      <td>67.75</td>\n",
       "      <td>36.20</td>\n",
       "      <td>93.10</td>\n",
       "      <td>85.20</td>\n",
       "      <td>94.50</td>\n",
       "      <td>59.00</td>\n",
       "      <td>37.30</td>\n",
       "      <td>21.90</td>\n",
       "      <td>32.00</td>\n",
       "      <td>27.40</td>\n",
       "      <td>17.10</td>\n",
       "    </tr>\n",
       "    <tr>\n",
       "      <th>1</th>\n",
       "      <td>1.09</td>\n",
       "      <td>6.10</td>\n",
       "      <td>22</td>\n",
       "      <td>173.25</td>\n",
       "      <td>72.25</td>\n",
       "      <td>38.50</td>\n",
       "      <td>93.60</td>\n",
       "      <td>83.00</td>\n",
       "      <td>98.70</td>\n",
       "      <td>58.70</td>\n",
       "      <td>37.30</td>\n",
       "      <td>23.40</td>\n",
       "      <td>30.50</td>\n",
       "      <td>28.90</td>\n",
       "      <td>18.20</td>\n",
       "    </tr>\n",
       "    <tr>\n",
       "      <th>2</th>\n",
       "      <td>1.04</td>\n",
       "      <td>25.30</td>\n",
       "      <td>22</td>\n",
       "      <td>154.00</td>\n",
       "      <td>66.25</td>\n",
       "      <td>34.00</td>\n",
       "      <td>95.80</td>\n",
       "      <td>87.90</td>\n",
       "      <td>99.20</td>\n",
       "      <td>59.60</td>\n",
       "      <td>38.90</td>\n",
       "      <td>24.00</td>\n",
       "      <td>28.80</td>\n",
       "      <td>25.20</td>\n",
       "      <td>16.60</td>\n",
       "    </tr>\n",
       "    <tr>\n",
       "      <th>3</th>\n",
       "      <td>1.08</td>\n",
       "      <td>10.40</td>\n",
       "      <td>26</td>\n",
       "      <td>184.75</td>\n",
       "      <td>72.25</td>\n",
       "      <td>37.40</td>\n",
       "      <td>101.80</td>\n",
       "      <td>86.40</td>\n",
       "      <td>101.20</td>\n",
       "      <td>60.10</td>\n",
       "      <td>37.30</td>\n",
       "      <td>22.80</td>\n",
       "      <td>32.40</td>\n",
       "      <td>29.40</td>\n",
       "      <td>18.20</td>\n",
       "    </tr>\n",
       "    <tr>\n",
       "      <th>4</th>\n",
       "      <td>1.03</td>\n",
       "      <td>28.70</td>\n",
       "      <td>24</td>\n",
       "      <td>184.25</td>\n",
       "      <td>71.25</td>\n",
       "      <td>34.40</td>\n",
       "      <td>97.30</td>\n",
       "      <td>100.00</td>\n",
       "      <td>101.90</td>\n",
       "      <td>63.20</td>\n",
       "      <td>42.20</td>\n",
       "      <td>24.00</td>\n",
       "      <td>32.20</td>\n",
       "      <td>27.70</td>\n",
       "      <td>17.70</td>\n",
       "    </tr>\n",
       "  </tbody>\n",
       "</table>\n",
       "</div>"
      ],
      "text/plain": [
       "   Density  BodyFat  Age  Weight  Height  Neck  Chest  Abdomen    Hip  Thigh  \\\n",
       "0     1.07    12.30   23  154.25   67.75 36.20  93.10    85.20  94.50  59.00   \n",
       "1     1.09     6.10   22  173.25   72.25 38.50  93.60    83.00  98.70  58.70   \n",
       "2     1.04    25.30   22  154.00   66.25 34.00  95.80    87.90  99.20  59.60   \n",
       "3     1.08    10.40   26  184.75   72.25 37.40 101.80    86.40 101.20  60.10   \n",
       "4     1.03    28.70   24  184.25   71.25 34.40  97.30   100.00 101.90  63.20   \n",
       "\n",
       "   Knee  Ankle  Biceps  Forearm  Wrist  \n",
       "0 37.30  21.90   32.00    27.40  17.10  \n",
       "1 37.30  23.40   30.50    28.90  18.20  \n",
       "2 38.90  24.00   28.80    25.20  16.60  \n",
       "3 37.30  22.80   32.40    29.40  18.20  \n",
       "4 42.20  24.00   32.20    27.70  17.70  "
      ]
     },
     "execution_count": 274,
     "metadata": {},
     "output_type": "execute_result"
    }
   ],
   "source": [
    "URL = 'https://raw.githubusercontent.com/aviralb13/git-codes/main/datas/bodyfat.csv'\n",
    "data=pd.read_csv(URL)\n",
    "data.head()"
   ]
  },
  {
   "cell_type": "code",
   "execution_count": 275,
   "metadata": {},
   "outputs": [
    {
     "data": {
      "text/plain": [
       "Index(['Density', 'BodyFat', 'Age', 'Weight', 'Height', 'Neck', 'Chest',\n",
       "       'Abdomen', 'Hip', 'Thigh', 'Knee', 'Ankle', 'Biceps', 'Forearm',\n",
       "       'Wrist'],\n",
       "      dtype='object')"
      ]
     },
     "execution_count": 275,
     "metadata": {},
     "output_type": "execute_result"
    }
   ],
   "source": [
    "data.columns"
   ]
  },
  {
   "cell_type": "code",
   "execution_count": 276,
   "metadata": {},
   "outputs": [],
   "source": [
    "features = ['Density', 'Age', 'Weight', 'Height', 'Neck', 'Chest', 'Abdomen', 'Hip', 'Thigh', 'Knee', 'Ankle', 'Biceps', 'Forearm', 'Wrist']\n",
    "x=data[features]\n",
    "y = data['BodyFat']"
   ]
  },
  {
   "cell_type": "code",
   "execution_count": 277,
   "metadata": {},
   "outputs": [],
   "source": [
    "from sklearn.model_selection import train_test_split\n",
    "\n",
    "train_x,test_x,train_y,test_y = train_test_split(x,y)"
   ]
  },
  {
   "cell_type": "code",
   "execution_count": 279,
   "metadata": {},
   "outputs": [
    {
     "data": {
      "text/plain": [
       "RandomForestRegressor()"
      ]
     },
     "execution_count": 279,
     "metadata": {},
     "output_type": "execute_result"
    }
   ],
   "source": [
    "from sklearn.ensemble import RandomForestRegressor\n",
    "regressor = RandomForestRegressor()\n",
    "regressor.fit(train_x, train_y)"
   ]
  },
  {
   "cell_type": "code",
   "execution_count": 280,
   "metadata": {},
   "outputs": [],
   "source": [
    "prediction2 = regressor.predict(test_x)"
   ]
  },
  {
   "cell_type": "code",
   "execution_count": 281,
   "metadata": {},
   "outputs": [
    {
     "name": "stdout",
     "output_type": "stream",
     "text": [
      "Mean Absolute Error: 0.45644444444444615\n",
      "Mean Squared Error: 3.227582730158731\n",
      "Root Mean Squared Error: 1.7965474472328113\n",
      "R2 score: 0.9691834816331913\n"
     ]
    }
   ],
   "source": [
    "from sklearn import metrics\n",
    "print('Mean Absolute Error:', metrics.mean_absolute_error(test_y, prediction2))\n",
    "print('Mean Squared Error:', metrics.mean_squared_error(test_y, prediction2))\n",
    "print('Root Mean Squared Error:', np.sqrt(metrics.mean_squared_error(test_y, prediction2)))\n",
    "print('R2 score:', np.sqrt(metrics.r2_score(test_y, prediction2)))"
   ]
  }
 ],
 "metadata": {
  "kernelspec": {
   "display_name": "tensorflow",
   "language": "python",
   "name": "python3"
  },
  "language_info": {
   "codemirror_mode": {
    "name": "ipython",
    "version": 3
   },
   "file_extension": ".py",
   "mimetype": "text/x-python",
   "name": "python",
   "nbconvert_exporter": "python",
   "pygments_lexer": "ipython3",
   "version": "3.9.12"
  },
  "orig_nbformat": 4,
  "vscode": {
   "interpreter": {
    "hash": "f728a8e68554e522eb965defc34d52de310763a969b141032002bfcd1af0c026"
   }
  }
 },
 "nbformat": 4,
 "nbformat_minor": 2
}
